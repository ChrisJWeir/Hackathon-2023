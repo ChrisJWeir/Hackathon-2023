{
 "cells": [
  {
   "cell_type": "code",
   "execution_count": 11,
   "id": "38bb8c29",
   "metadata": {},
   "outputs": [],
   "source": [
    "import http.client, urllib.request, urllib.parse, urllib.error, base64"
   ]
  },
  {
   "cell_type": "code",
   "execution_count": 12,
   "id": "39adff33",
   "metadata": {},
   "outputs": [],
   "source": [
    "#this is where all the info relative to your custom vision project is going to go\n",
    "\n",
    "headers = {\n",
    "    # Request headers\n",
    "    'Training-key': 'e72770d64f3b4e6f8f44c54bb9f497db', #might need to change\n",
    "}\n",
    "\n",
    "params = urllib.parse.urlencode({\n",
    "    # Request parameters\n",
    "    'iterationId': 'Workspace', #iteration count, or 'workspace'\n",
    "    'tagIds': ['Broken region', 'Intrinsic defect', 'Impurity defect'], #all tags applied\n",
    "    'orderBy': 'newest', #default\n",
    "    'take': '256', #this is the max, will take all images\n",
    "    'skip': '0', #skip no images\n",
    "})"
   ]
  },
  {
   "cell_type": "code",
   "execution_count": 13,
   "id": "4198a3f2",
   "metadata": {},
   "outputs": [
    {
     "name": "stdout",
     "output_type": "stream",
     "text": [
      "[Errno 8] nodename nor servname provided, or not known\n"
     ]
    }
   ],
   "source": [
    "try:\n",
    "    conn = http.client.HTTPSConnection('*.cognitiveservices.azure.com')\n",
    "    conn.request(\"GET\", \"/customvision/v3.3/Training/projects/{projectId}/images/tagged?%s\" % params, \"{body}\", headers)\n",
    "    response = conn.getresponse()\n",
    "    data = response.read()\n",
    "    print(data)\n",
    "    conn.close()\n",
    "except Exception as e:\n",
    "    print(\"[Errno {0}] {1}\".format(e.errno, e.strerror))\n"
   ]
  },
  {
   "cell_type": "code",
   "execution_count": null,
   "id": "ce32ecde",
   "metadata": {},
   "outputs": [],
   "source": []
  }
 ],
 "metadata": {
  "kernelspec": {
   "display_name": "Python 3 (ipykernel)",
   "language": "python",
   "name": "python3"
  },
  "language_info": {
   "codemirror_mode": {
    "name": "ipython",
    "version": 3
   },
   "file_extension": ".py",
   "mimetype": "text/x-python",
   "name": "python",
   "nbconvert_exporter": "python",
   "pygments_lexer": "ipython3",
   "version": "3.9.16"
  }
 },
 "nbformat": 4,
 "nbformat_minor": 5
}
