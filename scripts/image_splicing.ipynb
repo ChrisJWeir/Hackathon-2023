{
 "cells": [
  {
   "cell_type": "code",
   "execution_count": 1,
   "id": "1681e606",
   "metadata": {},
   "outputs": [],
   "source": [
    "from skimage import io\n",
    "import pandas as pd\n",
    "import numpy as np\n",
    "import glob as glob\n",
    "from PIL import Image"
   ]
  },
  {
   "cell_type": "code",
   "execution_count": null,
   "id": "f763e135",
   "metadata": {},
   "outputs": [
    {
     "name": "stdout",
     "output_type": "stream",
     "text": [
      "(1024, 1024)\n"
     ]
    }
   ],
   "source": [
    "image_dir = '/Users/christian/Desktop/MSE544-Spring 2023/haxxathon/images/mos2/'\n",
    "\n",
    "img = io.imread(image_dir+'1.png')\n",
    "io.imshow(img)\n",
    "df = np.asarray(img[:, :,0])\n",
    "print(df.shape)"
   ]
  },
  {
   "cell_type": "code",
   "execution_count": 3,
   "id": "0d809fd3",
   "metadata": {},
   "outputs": [
    {
     "name": "stdout",
     "output_type": "stream",
     "text": [
      "dimensions: 655x516\n",
      "image: 8.png\n",
      "dimensions: 560x488\n",
      "image: 14.png\n",
      "dimensions: 386x337\n",
      "image: 28.png\n",
      "dimensions: 435x601\n",
      "image: 17.png\n",
      "dimensions: 551x484\n",
      "image: 16.png\n",
      "dimensions: 774x874\n",
      "image: 13.png\n",
      "dimensions: 1017x566\n",
      "image: 10.png\n",
      "dimensions: 1425x1118\n",
      "image: 21.png\n",
      "dimensions: 442x338\n",
      "image: 27.png\n",
      "dimensions: 442x338\n",
      "image: 26.png\n",
      "dimensions: 495x449\n",
      "image: 19.png\n",
      "dimensions: 661x515\n",
      "image: 7.png\n"
     ]
    }
   ],
   "source": [
    "#reading all preprocessed images \n",
    "images = [name.replace(image_dir, '') \n",
    "          for name in glob.glob(image_dir+'*.png')]\n",
    "\n",
    "#where smaller images are stored\n",
    "output_dir = '/Users/christian/Desktop/MSE544-Spring 2023/haxxathon/images/truncated/'\n",
    "\n",
    "#loop to get data on the images we have\n",
    "for i in range(len(images)):\n",
    "    image = io.imread(image_dir+'{}'.format(images[i]))\n",
    "    array = np.asarray(image[:, :, :]) #x_dim, y_dim, (r:g:b)\n",
    "    \n",
    "    #determining dimensions of image \n",
    "    x_dim, y_dim = len(array[:, 0, 0]), len(array[0, :, 0])\n",
    "    \n",
    "    #splitting up a standard 1024/1024 image into 4 chunks. Since we need to do some hand labeling with ImageJ\n",
    "    #I don't want to make too many images for us to hand label. However, this will increase our training data\n",
    "    if x_dim == y_dim and x_dim == 1024:\n",
    "        quarter_x, quarter_y = int(x_dim/2), int(y_dim/2)\n",
    "        \n",
    "        #moving along x_dim\n",
    "        new_image1 = array[0:quarter_x, 0:quarter_y, :]\n",
    "        im = Image.fromarray(new_image1)\n",
    "        im.save(output_dir+'{}-1of4.png'.format(i))\n",
    "        \n",
    "        new_image2 = array[quarter_x:-1, 0:quarter_y, :]\n",
    "        im = Image.fromarray(new_image2)\n",
    "        im.save(output_dir+'{}-2of4.png'.format(i))\n",
    "\n",
    "        #moviung along y_dim\n",
    "        new_image3 = array[0:quarter_x, quarter_y:-1, :]\n",
    "        im = Image.fromarray(new_image3)\n",
    "        im.save(output_dir+'{}-3of4.png'.format(i))\n",
    "\n",
    "        \n",
    "        new_image4 = array[quarter_x:-1, quarter_y:-1, :]\n",
    "        im = Image.fromarray(new_image4)\n",
    "        im.save(output_dir+'{}-4of4.png'.format(i))\n",
    "    #there are only a few 2048/2048 images, maybe we can treat these differently\n",
    "    \n",
    "    if x_dim == y_dim and x_dim == 2048:\n",
    "        for j in range(4):\n",
    "            sixt_x, sixt_y = int(x_dim/4), int(y_dim/4)\n",
    "            #going by entries in rows: i = row count\n",
    "            row = j * sixt_x\n",
    "            \n",
    "            col0, col1, col2, col3 = array[row:row+512, 0:sixt_y, :], array[row:row+512, sixt_y:2*sixt_y, :], array[row:row+512, 2*sixt_y:3*sixt_y, :], array[row:row+512, 3*sixt_y:-1, :]\n",
    "            \n",
    "            im = Image.fromarray(col0)\n",
    "            im.save(output_dir+'{}-{}of16.png'.format(i, 1+ (4*j)))\n",
    "            \n",
    "            im = Image.fromarray(col1)\n",
    "            im.save(output_dir+'{}-{}of16.png'.format(i, 2 + (4*j)))\n",
    "            \n",
    "            im = Image.fromarray(col2)\n",
    "            im.save(output_dir+'{}-{}of16.png'.format(i, 3 + (4*j)))\n",
    "            \n",
    "            im = Image.fromarray(col3)\n",
    "            im.save(output_dir+'{}-{}of16.png'.format(i, 4 + (4*j)))\n",
    "        \n",
    "    #we are going to need to treat non-symmetrical images differently I think\n",
    "    #maybe rounding to the nearest 'standard' resolution and cutting out some data?\n",
    "    \n",
    "    if x_dim != y_dim:\n",
    "        print('dimensions: {}x{}'.format(x_dim, y_dim))\n",
    "        print('image: {}'.format(images[i]))\n",
    "        \n",
    "\n",
    "#Something that would be interesting would be tracking the statistics of the SIZE of the defects. \n",
    "#its easy enough to take pixel measurements and we could get an avg., min, max, distribution, etc.\n",
    "#t\n",
    "\n",
    "#however, we would need to somehow extract scale bars from these images to get info on real distances and not pixels\n",
    "#with a scale bar/ aspect ratio (?) we could account for this and get a more meaningful descriptor"
   ]
  },
  {
   "cell_type": "code",
   "execution_count": null,
   "id": "b4d7cd0c",
   "metadata": {},
   "outputs": [],
   "source": []
  },
  {
   "cell_type": "code",
   "execution_count": null,
   "id": "cb218f1d",
   "metadata": {},
   "outputs": [],
   "source": []
  }
 ],
 "metadata": {
  "kernelspec": {
   "display_name": "Python 3 (ipykernel)",
   "language": "python",
   "name": "python3"
  },
  "language_info": {
   "codemirror_mode": {
    "name": "ipython",
    "version": 3
   },
   "file_extension": ".py",
   "mimetype": "text/x-python",
   "name": "python",
   "nbconvert_exporter": "python",
   "pygments_lexer": "ipython3",
   "version": "3.9.16"
  }
 },
 "nbformat": 4,
 "nbformat_minor": 5
}
