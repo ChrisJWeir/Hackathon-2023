{
 "cells": [
  {
   "cell_type": "code",
   "execution_count": null,
   "metadata": {},
   "outputs": [],
   "source": [
    "# run in an environment like this\n",
    "# conda create -n hackproj python=3.10 jupyter\n",
    "# conda activate hackproj"
   ]
  },
  {
   "cell_type": "code",
   "execution_count": null,
   "metadata": {},
   "outputs": [],
   "source": [
    "# also need to install these\n",
    "# pip install azure-cognitiveservices-vision-customvision\n",
    "# conda install scikit-learn scikit-image"
   ]
  },
  {
   "cell_type": "code",
   "execution_count": 1,
   "metadata": {},
   "outputs": [],
   "source": [
    "import os\n",
    "from util import labeledImage\n",
    "from azureapi import AzureCVObjectDetectionAPI\n",
    "from sklearn.model_selection import train_test_split"
   ]
  },
  {
   "cell_type": "code",
   "execution_count": 2,
   "metadata": {},
   "outputs": [],
   "source": [
    "picture_dir = 'path to images'\n",
    "in_labels_dir = 'path to intrinsic defect labels'\n",
    "im_labels_dir = 'path to impurity defect labels'\n",
    "br_labels_dir = 'path to broken region labels'\n",
    "\n",
    "labeled_images = []\n",
    "in_labeled_images = []\n",
    "im_labeled_images = []\n",
    "br_labeled_images = []\n",
    "perfect_images =[]\n",
    "\n",
    "in_tag = 'Intrinsic defect'\n",
    "im_tag = 'Impurity defect'\n",
    "br_tag = 'Broken region'"
   ]
  },
  {
   "cell_type": "code",
   "execution_count": 3,
   "metadata": {},
   "outputs": [],
   "source": [
    "for file in os.listdir(picture_dir):\n",
    "    if file.endswith(\".png\"):\n",
    "        image_path = os.path.join(picture_dir, file)\n",
    "        im_label_path = os.path.join(im_labels_dir, file.split('.')[0] + '.txt')\n",
    "\n",
    "        labeled_images.append(labeledImage(image_path))\n",
    "        \n",
    "        # Check if the label file exists\n",
    "        if os.path.isfile(im_label_path):\n",
    "            im_labeled_images.append(labeledImage(image_path))\n",
    "            im_labeled_images[-1].add_labels_from_file(im_tag, im_label_path)\n",
    "        else:\n",
    "            continue"
   ]
  },
  {
   "cell_type": "code",
   "execution_count": 4,
   "metadata": {},
   "outputs": [],
   "source": [
    "for file in os.listdir(picture_dir):\n",
    "    if file.endswith(\".png\"):\n",
    "        image_path = os.path.join(picture_dir, file)\n",
    "        in_label_path = os.path.join(in_labels_dir, file.split('.')[0] + '.txt')\n",
    "\n",
    "        labeled_images.append(labeledImage(image_path))\n",
    "        \n",
    "        # Check if the label file exists\n",
    "        if os.path.isfile(in_label_path):\n",
    "            in_labeled_images.append(labeledImage(image_path))\n",
    "            in_labeled_images[-1].add_labels_from_file(in_tag, in_label_path)\n",
    "        else:\n",
    "            continue"
   ]
  },
  {
   "cell_type": "code",
   "execution_count": 5,
   "metadata": {},
   "outputs": [],
   "source": [
    "for file in os.listdir(picture_dir):\n",
    "    if file.endswith(\".png\"):\n",
    "        image_path = os.path.join(picture_dir, file)\n",
    "        br_label_path = os.path.join(br_labels_dir, file.split('.')[0] + '.txt')\n",
    "\n",
    "        labeled_images.append(labeledImage(image_path))\n",
    "        \n",
    "        # Check if the label file exists\n",
    "        if os.path.isfile(br_label_path):\n",
    "            br_labeled_images.append(labeledImage(image_path))\n",
    "            br_labeled_images[-1].add_labels_from_file(br_tag, br_label_path)\n",
    "        else:\n",
    "            continue"
   ]
  },
  {
   "cell_type": "code",
   "execution_count": null,
   "metadata": {},
   "outputs": [],
   "source": [
    "for file in os.listdir(picture_dir):\n",
    "    if file.endswith(\".png\"):\n",
    "        image_path = os.path.join(picture_dir, file)\n",
    "        im_label_path = os.path.join(im_labels_dir, file.split('.')[0] + '.txt')\n",
    "        br_label_path = os.path.join(br_labels_dir, file.split('.')[0] + '.txt')\n",
    "        in_label_path = os.path.join(in_labels_dir, file.split('.')[0] + '.txt')\n",
    "\n",
    "        labeled_images.append(labeledImage(image_path))\n",
    "        \n",
    "        # Check if perfect\n",
    "        if (not os.path.isfile(br_label_path) and not os.path.isfile(im_label_path) and not os.path.isfile(in_label_path)):\n",
    "            perfect_images.append(labeledImage(image_path))\n",
    "        else:\n",
    "            continue"
   ]
  },
  {
   "cell_type": "code",
   "execution_count": 6,
   "metadata": {},
   "outputs": [
    {
     "name": "stdout",
     "output_type": "stream",
     "text": [
      "Labeled image 21-6of16.png\n",
      "    location: ./Chris/21-6of16.png\n",
      "    shape: (512, 512, 3)\n",
      "    labels:\n",
      "    - Broken region: \n",
      "      [312, 343, 188, 169]\n",
      "      [29, 198, 106, 111]\n",
      "\n"
     ]
    }
   ],
   "source": [
    "print(br_labeled_images[3])"
   ]
  },
  {
   "cell_type": "code",
   "execution_count": 7,
   "metadata": {},
   "outputs": [],
   "source": [
    "# change these to whichever project we use\n",
    "\n",
    "Endpoint    = '<Your_Endpoint>'\n",
    "Key         = '<Your_Key>'\n",
    "Resource_Id = '<Your_Resource_Id>'\n",
    "Project_Id  = '<Your_Project_Id>'\n",
    "\n",
    "ACVObjectDetector = AzureCVObjectDetectionAPI(Endpoint, Key, Resource_Id, Project_Id)"
   ]
  },
  {
   "cell_type": "code",
   "execution_count": 8,
   "metadata": {},
   "outputs": [
    {
     "name": "stdout",
     "output_type": "stream",
     "text": [
      "Adding images...\n",
      "Adding images: batch  1\n",
      "Adding images...\n",
      "Adding images: batch  1\n",
      "Image batch upload failed.\n",
      "Image status:  OKDuplicate\n",
      "Image status:  OKDuplicate\n",
      "Image status:  OKDuplicate\n",
      "Image status:  OKDuplicate\n",
      "Image status:  OKDuplicate\n",
      "Image status:  OKDuplicate\n",
      "Image status:  OKDuplicate\n",
      "Image status:  OK\n",
      "Adding images...\n",
      "Adding images: batch  1\n",
      "Image batch upload failed.\n",
      "Image status:  OKDuplicate\n",
      "Image status:  OKDuplicate\n",
      "Image status:  OKDuplicate\n",
      "Image status:  OKDuplicate\n",
      "Image status:  OKDuplicate\n",
      "Image status:  OKDuplicate\n",
      "Image status:  OKDuplicate\n",
      "Image status:  OKDuplicate\n",
      "Image status:  OKDuplicate\n",
      "Image status:  OKDuplicate\n",
      "Image status:  OKDuplicate\n"
     ]
    }
   ],
   "source": [
    "ACVObjectDetector.upload_training_images(in_labeled_images)\n",
    "ACVObjectDetector.upload_training_images(im_labeled_images)\n",
    "ACVObjectDetector.upload_training_images(br_labeled_images)"
   ]
  },
  {
   "cell_type": "code",
   "execution_count": null,
   "metadata": {},
   "outputs": [],
   "source": [
    "for image in perfect_images: print(image.name)"
   ]
  },
  {
   "cell_type": "code",
   "execution_count": null,
   "metadata": {},
   "outputs": [],
   "source": []
  }
 ],
 "metadata": {
  "kernelspec": {
   "display_name": "MSE544CVpy310",
   "language": "python",
   "name": "python3"
  },
  "language_info": {
   "codemirror_mode": {
    "name": "ipython",
    "version": 3
   },
   "file_extension": ".py",
   "mimetype": "text/x-python",
   "name": "python",
   "nbconvert_exporter": "python",
   "pygments_lexer": "ipython3",
   "version": "3.10.11"
  },
  "orig_nbformat": 4
 },
 "nbformat": 4,
 "nbformat_minor": 2
}
